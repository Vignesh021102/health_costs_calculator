{
 "cells": [
  {
   "cell_type": "code",
   "execution_count": 1,
   "id": "d00bef73-df08-49d8-a6a1-9c5329420cd9",
   "metadata": {},
   "outputs": [],
   "source": [
    "import pandas as pd\n",
    "import numpy as np\n",
    "import matplotlib.pyplot as plt\n",
    "import seaborn as sns\n",
    "sns.set()"
   ]
  },
  {
   "cell_type": "code",
   "execution_count": 2,
   "id": "cebaa3fa-f329-4548-8c91-9cdb340b10a1",
   "metadata": {},
   "outputs": [],
   "source": [
    "import tensorflow as tf"
   ]
  },
  {
   "cell_type": "code",
   "execution_count": 3,
   "id": "4d317fc7-45dc-4c4a-808f-eff2e2688a85",
   "metadata": {},
   "outputs": [],
   "source": [
    "raw_df = pd.read_csv('insurance.csv')"
   ]
  },
  {
   "cell_type": "code",
   "execution_count": 4,
   "id": "c51e15f2-b0f9-46fa-9355-d5024d94d5b5",
   "metadata": {},
   "outputs": [],
   "source": [
    "df = raw_df.copy()"
   ]
  },
  {
   "cell_type": "code",
   "execution_count": 5,
   "id": "fb0051d5-2de0-44d7-a3c0-6a9f3edfa4a6",
   "metadata": {},
   "outputs": [],
   "source": [
    "df['smoker'] = np.where(df['smoker'] == 'yes',1,0)\n",
    "df['sex'] = np.where(df['sex'] == 'male',1,0)"
   ]
  },
  {
   "cell_type": "code",
   "execution_count": 6,
   "id": "1dc694a8-413c-4a9b-affe-e559e70cf2b5",
   "metadata": {},
   "outputs": [
    {
     "name": "stdout",
     "output_type": "stream",
     "text": [
      "unique regions : ['northeast' 'northwest' 'southeast' 'southwest']\n",
      "children range : [0 1 2 3 4 5]\n"
     ]
    }
   ],
   "source": [
    "print('unique regions :',np.sort(df['region'].unique()))\n",
    "print('children range :',np.sort(df['children'].unique()))"
   ]
  },
  {
   "cell_type": "code",
   "execution_count": 7,
   "id": "2f0c6f0e-9cbc-4b94-852d-7c8c829b80c4",
   "metadata": {},
   "outputs": [],
   "source": [
    "region_dummies = pd.get_dummies(df['region'],drop_first=True)\n",
    "\n",
    "df = pd.concat([df,region_dummies],axis=1)\n",
    "df = df[['age', 'sex', 'bmi', 'children', 'smoker','northwest', 'southeast', 'southwest', 'expenses']]"
   ]
  },
  {
   "cell_type": "code",
   "execution_count": 8,
   "id": "963b7c22-cb63-4e39-a922-9c63906c7859",
   "metadata": {},
   "outputs": [],
   "source": [
    "df.to_csv('preprocessed_insuranceDF.csv')"
   ]
  },
  {
   "cell_type": "code",
   "execution_count": 9,
   "id": "b07e64d5-7be5-4106-bcb8-2371b0347d76",
   "metadata": {},
   "outputs": [],
   "source": [
    "from sklearn.model_selection import train_test_split"
   ]
  },
  {
   "cell_type": "code",
   "execution_count": 10,
   "id": "fe95f291-b76a-48f6-9de2-a14544332ea8",
   "metadata": {},
   "outputs": [
    {
     "name": "stdout",
     "output_type": "stream",
     "text": [
      "1070 268\n"
     ]
    }
   ],
   "source": [
    "train_size = round(df.shape[0]*0.8)\n",
    "test_size = round(df.shape[0]*0.2)\n",
    "print(train_size,test_size)"
   ]
  },
  {
   "cell_type": "code",
   "execution_count": 11,
   "id": "b6880d42-72fb-4929-8349-5f3a03407cfa",
   "metadata": {},
   "outputs": [],
   "source": [
    "yvalue = df.iloc[:,8:]\n",
    "xvalue = df.iloc[:,0:8]"
   ]
  },
  {
   "cell_type": "code",
   "execution_count": 12,
   "id": "5f291743-f14b-4ed3-8ac2-89cf18d463ac",
   "metadata": {},
   "outputs": [],
   "source": [
    "(xtrain,xtest,ytrain,ytest) = train_test_split(xvalue,yvalue,train_size = 0.8,shuffle = True,random_state = 10)"
   ]
  },
  {
   "cell_type": "code",
   "execution_count": 13,
   "id": "e09c25e2-4d0f-45fd-a665-13a8d6e07143",
   "metadata": {},
   "outputs": [
    {
     "data": {
      "text/plain": [
       "array([[39.13926   ,  0.5065421 , 30.710749  ,  1.0869157 ,  0.2028037 ,\n",
       "         0.2411215 ,  0.26822424,  0.24205603]], dtype=float32)"
      ]
     },
     "execution_count": 13,
     "metadata": {},
     "output_type": "execute_result"
    }
   ],
   "source": [
    "Normalizer = tf.keras.layers.Normalization(axis = -1)\n",
    "Normalizer.adapt(np.array(xtrain))\n",
    "Normalizer.mean.numpy()"
   ]
  },
  {
   "cell_type": "code",
   "execution_count": 14,
   "id": "93a8dac2-7d2f-4a7b-b57b-7c69b7562216",
   "metadata": {},
   "outputs": [
    {
     "data": {
      "text/plain": [
       "<keras.callbacks.History at 0x1bf5e340790>"
      ]
     },
     "execution_count": 14,
     "metadata": {},
     "output_type": "execute_result"
    }
   ],
   "source": [
    "hidden_layer_size = 80\n",
    "output_layer_size = 1\n",
    "batch_size = 10\n",
    "num_epochs=150\n",
    "\n",
    "model = tf.keras.Sequential([\n",
    "    Normalizer,\n",
    "    tf.keras.layers.Dense(hidden_layer_size,activation='relu'),\n",
    "    tf.keras.layers.Dense(hidden_layer_size,activation='relu'),\n",
    "    tf.keras.layers.Dense(output_layer_size)\n",
    "])\n",
    "model.compile(optimizer = 'adam',loss='MeanAbsoluteError')\n",
    "model.fit(x = xtrain,\n",
    "          y=ytrain,\n",
    "          batch_size = batch_size,\n",
    "          epochs=num_epochs,\n",
    "          verbose=False)"
   ]
  },
  {
   "cell_type": "code",
   "execution_count": 15,
   "id": "07d13b83-ad4d-4b86-a7b7-8ee458d02704",
   "metadata": {},
   "outputs": [
    {
     "name": "stdout",
     "output_type": "stream",
     "text": [
      "Model: \"sequential\"\n",
      "_________________________________________________________________\n",
      " Layer (type)                Output Shape              Param #   \n",
      "=================================================================\n",
      " normalization (Normalizatio  (None, 8)                17        \n",
      " n)                                                              \n",
      "                                                                 \n",
      " dense (Dense)               (None, 80)                720       \n",
      "                                                                 \n",
      " dense_1 (Dense)             (None, 80)                6480      \n",
      "                                                                 \n",
      " dense_2 (Dense)             (None, 1)                 81        \n",
      "                                                                 \n",
      "=================================================================\n",
      "Total params: 7,298\n",
      "Trainable params: 7,281\n",
      "Non-trainable params: 17\n",
      "_________________________________________________________________\n"
     ]
    }
   ],
   "source": [
    "model.summary()"
   ]
  },
  {
   "cell_type": "code",
   "execution_count": 16,
   "id": "304b92ef-23b7-4433-858c-5ea204d48db0",
   "metadata": {},
   "outputs": [
    {
     "data": {
      "text/plain": [
       "2063.768798828125"
      ]
     },
     "execution_count": 16,
     "metadata": {},
     "output_type": "execute_result"
    }
   ],
   "source": [
    "model.evaluate(xtest,ytest,verbose=False)"
   ]
  },
  {
   "cell_type": "code",
   "execution_count": 17,
   "id": "ca5b87b0-fd9c-400a-981e-3d7e9f2d018c",
   "metadata": {},
   "outputs": [],
   "source": [
    "prediction = model.predict(xtest,verbose=False)"
   ]
  },
  {
   "cell_type": "code",
   "execution_count": 18,
   "id": "7278a08d-6e29-4a2c-90eb-2ed879068759",
   "metadata": {},
   "outputs": [
    {
     "data": {
      "image/png": "[encoded data removed]",
      "text/plain": [
       "<Figure size 432x288 with 1 Axes>"
      ]
     },
     "metadata": {
      "needs_background": "light"
     },
     "output_type": "display_data"
    }
   ],
   "source": [
    "plt.scatter(prediction,ytest.values,alpha=0.5)\n",
    "plt.xlabel('predicted')\n",
    "plt.ylabel('actual value')\n",
    "plt.show()"
   ]
  },
  {
   "cell_type": "code",
   "execution_count": 19,
   "id": "e2b57f1d-1121-4863-a47e-58433384cb9f",
   "metadata": {},
   "outputs": [],
   "source": [
    "test_dataset = xtest\n",
    "test_labels = ytest"
   ]
  },
  {
   "cell_type": "code",
   "execution_count": 20,
   "id": "30607690-9a3f-4c74-9855-e3dd7822282b",
   "metadata": {},
   "outputs": [],
   "source": [
    "test_dataset = xtest\n",
    "test_labels = ytest"
   ]
  },
  {
   "cell_type": "code",
   "execution_count": 21,
   "id": "86fdb3a7-78eb-4863-a8f7-efdb14fbc085",
   "metadata": {},
   "outputs": [
    {
     "name": "stdout",
     "output_type": "stream",
     "text": [
      "9/9 - 0s - loss: 2063.7688 - 16ms/epoch - 2ms/step\n",
      "Testing set Mean Abs Error: 2063.77 expenses\n",
      "You passed the challenge. Great job!\n",
      "9/9 [==============================] - 0s 1ms/step\n"
     ]
    },
    {
     "data": {
      "image/png": "[encoded data removed]",
      "text/plain": [
       "<Figure size 432x288 with 1 Axes>"
      ]
     },
     "metadata": {
      "needs_background": "light"
     },
     "output_type": "display_data"
    }
   ],
   "source": [
    "# RUN THIS CELL TO TEST YOUR MODEL. DO NOT MODIFY CONTENTS.\n",
    "# Test model by checking how well the model generalizes using the test set.\n",
    "mae= model.evaluate(test_dataset, test_labels, verbose=2)\n",
    "\n",
    "print(\"Testing set Mean Abs Error: {:5.2f} expenses\".format(mae))\n",
    "\n",
    "if mae < 3500:\n",
    "  print(\"You passed the challenge. Great job!\")\n",
    "else:\n",
    "  print(\"The Mean Abs Error must be less than 3500. Keep trying.\")\n",
    "\n",
    "# Plot predictions.\n",
    "test_predictions = model.predict(test_dataset).flatten()\n",
    "\n",
    "a = plt.axes(aspect='equal')\n",
    "plt.scatter(test_labels, test_predictions)\n",
    "plt.xlabel('True values (expenses)')\n",
    "plt.ylabel('Predictions (expenses)')\n",
    "lims = [0, 50000]\n",
    "plt.xlim(lims)\n",
    "plt.ylim(lims)\n",
    "_ = plt.plot(lims,lims)"
   ]
  },
  {
   "cell_type": "code",
   "execution_count": 22,
   "id": "14092642-0ee0-4695-b24b-5c6391f6b9dc",
   "metadata": {},
   "outputs": [
    {
     "name": "stdout",
     "output_type": "stream",
     "text": [
      "INFO:tensorflow:Assets written to: ./model\\assets\n"
     ]
    }
   ],
   "source": [
    "model.save('./model')"
   ]
  },
  {
   "cell_type": "code",
   "execution_count": null,
   "id": "aa7d453a-7058-4c12-a46b-8cf2c0312c82",
   "metadata": {},
   "outputs": [],
   "source": []
  }
 ],
 "metadata": {
  "kernelspec": {
   "display_name": "Python 3 (ipykernel)",
   "language": "python",
   "name": "python3"
  },
  "language_info": {
   "codemirror_mode": {
    "name": "ipython",
    "version": 3
   },
   "file_extension": ".py",
   "mimetype": "text/x-python",
   "name": "python",
   "nbconvert_exporter": "python",
   "pygments_lexer": "ipython3",
   "version": "3.10.4"
  }
 },
 "nbformat": 4,
 "nbformat_minor": 5
}
